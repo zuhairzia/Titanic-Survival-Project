{
 "cells": [
  {
   "cell_type": "markdown",
   "id": "497373be",
   "metadata": {},
   "source": [
    "# 🚢 Titanic Survival Prediction\n",
    "\n",
    "## 📌 Project Overview\n",
    "This project aims to predict whether a passenger survived the Titanic disaster or not, \n",
    "based on features like **age, gender, ticket class, and fare**.  \n",
    "\n",
    "The workflow includes:\n",
    "1. Data Exploration\n",
    "2. Data Cleaning & Preprocessing\n",
    "3. Feature Engineering\n",
    "4. Model Training\n",
    "5. Model Evaluation\n",
    "6. Saving the Model\n"
   ]
  },
  {
   "cell_type": "markdown",
   "id": "1ede0f37",
   "metadata": {},
   "source": [
    "## 📌 Step 1: Import Required Libraries\n",
    "We will import all the necessary Python libraries for:\n",
    "- Data manipulation (Pandas, NumPy)  \n",
    "- Visualization (Matplotlib, Seaborn)  \n",
    "- Machine learning (Scikit-learn)  \n",
    "- Model saving (Joblib)  \n"
   ]
  },
  {
   "cell_type": "code",
   "execution_count": 52,
   "id": "73ff89a4",
   "metadata": {},
   "outputs": [],
   "source": [
    "# Basic Libraries\n",
    "import pandas as pd\n",
    "import numpy as np\n",
    "\n",
    "# Visualization\n",
    "import matplotlib.pyplot as plt\n",
    "import seaborn as sns\n",
    "\n",
    "# Preprocessing & Model\n",
    "from sklearn.model_selection import train_test_split\n",
    "from sklearn.preprocessing import LabelEncoder, StandardScaler\n",
    "from sklearn.linear_model import LogisticRegression\n",
    "from sklearn.metrics import accuracy_score, confusion_matrix, classification_report\n",
    "\n",
    "# Additional Models to ML Models & Compare Performance\n",
    "from sklearn.tree import DecisionTreeClassifier\n",
    "from sklearn.ensemble import RandomForestClassifier\n",
    "from sklearn.svm import SVC\n",
    "from sklearn.neighbors import KNeighborsClassifier\n",
    "\n",
    "# OS Library\n",
    "import os\n",
    "\n",
    "# Save Model\n",
    "import joblib\n"
   ]
  },
  {
   "cell_type": "markdown",
   "id": "5fbbdfcc",
   "metadata": {},
   "source": [
    "## 📂 Step 2: Load Dataset\n",
    "Now, we will load the Titanic dataset (`train.csv`) and look at the first few rows \n",
    "to understand the structure.\n"
   ]
  },
  {
   "cell_type": "code",
   "execution_count": 53,
   "id": "494d5746",
   "metadata": {},
   "outputs": [
    {
     "data": {
      "text/html": [
       "<div>\n",
       "<style scoped>\n",
       "    .dataframe tbody tr th:only-of-type {\n",
       "        vertical-align: middle;\n",
       "    }\n",
       "\n",
       "    .dataframe tbody tr th {\n",
       "        vertical-align: top;\n",
       "    }\n",
       "\n",
       "    .dataframe thead th {\n",
       "        text-align: right;\n",
       "    }\n",
       "</style>\n",
       "<table border=\"1\" class=\"dataframe\">\n",
       "  <thead>\n",
       "    <tr style=\"text-align: right;\">\n",
       "      <th></th>\n",
       "      <th>PassengerId</th>\n",
       "      <th>Survived</th>\n",
       "      <th>Pclass</th>\n",
       "      <th>Name</th>\n",
       "      <th>Sex</th>\n",
       "      <th>Age</th>\n",
       "      <th>SibSp</th>\n",
       "      <th>Parch</th>\n",
       "      <th>Ticket</th>\n",
       "      <th>Fare</th>\n",
       "      <th>Cabin</th>\n",
       "      <th>Embarked</th>\n",
       "    </tr>\n",
       "  </thead>\n",
       "  <tbody>\n",
       "    <tr>\n",
       "      <th>0</th>\n",
       "      <td>1</td>\n",
       "      <td>0</td>\n",
       "      <td>3</td>\n",
       "      <td>Braund, Mr. Owen Harris</td>\n",
       "      <td>male</td>\n",
       "      <td>22.0</td>\n",
       "      <td>1</td>\n",
       "      <td>0</td>\n",
       "      <td>A/5 21171</td>\n",
       "      <td>7.2500</td>\n",
       "      <td>NaN</td>\n",
       "      <td>S</td>\n",
       "    </tr>\n",
       "    <tr>\n",
       "      <th>1</th>\n",
       "      <td>2</td>\n",
       "      <td>1</td>\n",
       "      <td>1</td>\n",
       "      <td>Cumings, Mrs. John Bradley (Florence Briggs Th...</td>\n",
       "      <td>female</td>\n",
       "      <td>38.0</td>\n",
       "      <td>1</td>\n",
       "      <td>0</td>\n",
       "      <td>PC 17599</td>\n",
       "      <td>71.2833</td>\n",
       "      <td>C85</td>\n",
       "      <td>C</td>\n",
       "    </tr>\n",
       "    <tr>\n",
       "      <th>2</th>\n",
       "      <td>3</td>\n",
       "      <td>1</td>\n",
       "      <td>3</td>\n",
       "      <td>Heikkinen, Miss. Laina</td>\n",
       "      <td>female</td>\n",
       "      <td>26.0</td>\n",
       "      <td>0</td>\n",
       "      <td>0</td>\n",
       "      <td>STON/O2. 3101282</td>\n",
       "      <td>7.9250</td>\n",
       "      <td>NaN</td>\n",
       "      <td>S</td>\n",
       "    </tr>\n",
       "    <tr>\n",
       "      <th>3</th>\n",
       "      <td>4</td>\n",
       "      <td>1</td>\n",
       "      <td>1</td>\n",
       "      <td>Futrelle, Mrs. Jacques Heath (Lily May Peel)</td>\n",
       "      <td>female</td>\n",
       "      <td>35.0</td>\n",
       "      <td>1</td>\n",
       "      <td>0</td>\n",
       "      <td>113803</td>\n",
       "      <td>53.1000</td>\n",
       "      <td>C123</td>\n",
       "      <td>S</td>\n",
       "    </tr>\n",
       "    <tr>\n",
       "      <th>4</th>\n",
       "      <td>5</td>\n",
       "      <td>0</td>\n",
       "      <td>3</td>\n",
       "      <td>Allen, Mr. William Henry</td>\n",
       "      <td>male</td>\n",
       "      <td>35.0</td>\n",
       "      <td>0</td>\n",
       "      <td>0</td>\n",
       "      <td>373450</td>\n",
       "      <td>8.0500</td>\n",
       "      <td>NaN</td>\n",
       "      <td>S</td>\n",
       "    </tr>\n",
       "  </tbody>\n",
       "</table>\n",
       "</div>"
      ],
      "text/plain": [
       "   PassengerId  Survived  Pclass  \\\n",
       "0            1         0       3   \n",
       "1            2         1       1   \n",
       "2            3         1       3   \n",
       "3            4         1       1   \n",
       "4            5         0       3   \n",
       "\n",
       "                                                Name     Sex   Age  SibSp  \\\n",
       "0                            Braund, Mr. Owen Harris    male  22.0      1   \n",
       "1  Cumings, Mrs. John Bradley (Florence Briggs Th...  female  38.0      1   \n",
       "2                             Heikkinen, Miss. Laina  female  26.0      0   \n",
       "3       Futrelle, Mrs. Jacques Heath (Lily May Peel)  female  35.0      1   \n",
       "4                           Allen, Mr. William Henry    male  35.0      0   \n",
       "\n",
       "   Parch            Ticket     Fare Cabin Embarked  \n",
       "0      0         A/5 21171   7.2500   NaN        S  \n",
       "1      0          PC 17599  71.2833   C85        C  \n",
       "2      0  STON/O2. 3101282   7.9250   NaN        S  \n",
       "3      0            113803  53.1000  C123        S  \n",
       "4      0            373450   8.0500   NaN        S  "
      ]
     },
     "execution_count": 53,
     "metadata": {},
     "output_type": "execute_result"
    }
   ],
   "source": [
    "# Load Titanic Dataset\n",
    "data = pd.read_csv(\"train.csv\")\n",
    "\n",
    "# Display first 5 rows\n",
    "data.head()"
   ]
  },
  {
   "cell_type": "markdown",
   "id": "a4f06561",
   "metadata": {},
   "source": [
    "## 📊 Step 3: Explore the Dataset\n",
    "Let's check:\n",
    "- Dataset information\n",
    "- Missing values\n",
    "- Statistical summary\n"
   ]
  },
  {
   "cell_type": "code",
   "execution_count": 54,
   "id": "be8f3392",
   "metadata": {},
   "outputs": [
    {
     "name": "stdout",
     "output_type": "stream",
     "text": [
      "<class 'pandas.core.frame.DataFrame'>\n",
      "RangeIndex: 891 entries, 0 to 890\n",
      "Data columns (total 12 columns):\n",
      " #   Column       Non-Null Count  Dtype  \n",
      "---  ------       --------------  -----  \n",
      " 0   PassengerId  891 non-null    int64  \n",
      " 1   Survived     891 non-null    int64  \n",
      " 2   Pclass       891 non-null    int64  \n",
      " 3   Name         891 non-null    object \n",
      " 4   Sex          891 non-null    object \n",
      " 5   Age          714 non-null    float64\n",
      " 6   SibSp        891 non-null    int64  \n",
      " 7   Parch        891 non-null    int64  \n",
      " 8   Ticket       891 non-null    object \n",
      " 9   Fare         891 non-null    float64\n",
      " 10  Cabin        204 non-null    object \n",
      " 11  Embarked     889 non-null    object \n",
      "dtypes: float64(2), int64(5), object(5)\n",
      "memory usage: 83.7+ KB\n",
      "None\n",
      "\n",
      "Missing Values:\n",
      " PassengerId      0\n",
      "Survived         0\n",
      "Pclass           0\n",
      "Name             0\n",
      "Sex              0\n",
      "Age            177\n",
      "SibSp            0\n",
      "Parch            0\n",
      "Ticket           0\n",
      "Fare             0\n",
      "Cabin          687\n",
      "Embarked         2\n",
      "dtype: int64\n",
      "\n",
      "Summary Statistics:\n",
      "        PassengerId    Survived      Pclass         Age       SibSp  \\\n",
      "count   891.000000  891.000000  891.000000  714.000000  891.000000   \n",
      "mean    446.000000    0.383838    2.308642   29.699118    0.523008   \n",
      "std     257.353842    0.486592    0.836071   14.526497    1.102743   \n",
      "min       1.000000    0.000000    1.000000    0.420000    0.000000   \n",
      "25%     223.500000    0.000000    2.000000   20.125000    0.000000   \n",
      "50%     446.000000    0.000000    3.000000   28.000000    0.000000   \n",
      "75%     668.500000    1.000000    3.000000   38.000000    1.000000   \n",
      "max     891.000000    1.000000    3.000000   80.000000    8.000000   \n",
      "\n",
      "            Parch        Fare  \n",
      "count  891.000000  891.000000  \n",
      "mean     0.381594   32.204208  \n",
      "std      0.806057   49.693429  \n",
      "min      0.000000    0.000000  \n",
      "25%      0.000000    7.910400  \n",
      "50%      0.000000   14.454200  \n",
      "75%      0.000000   31.000000  \n",
      "max      6.000000  512.329200  \n"
     ]
    }
   ],
   "source": [
    "# Dataset info\n",
    "print(data.info())\n",
    "\n",
    "# Missing values\n",
    "print(\"\\nMissing Values:\\n\", data.isnull().sum())\n",
    "\n",
    "# Statistical summary\n",
    "print(\"\\nSummary Statistics:\\n\", data.describe())\n"
   ]
  },
  {
   "cell_type": "markdown",
   "id": "620364d1",
   "metadata": {},
   "source": [
    "## 🧹 Step 4: Data Cleaning\n",
    "We need to handle:\n",
    "- Missing values in **Age**, **Cabin**, and **Embarked**\n",
    "- Drop irrelevant columns (**Name**, **Ticket**, **Cabin**) since they don’t add much value  \n"
   ]
  },
  {
   "cell_type": "code",
   "execution_count": 55,
   "id": "e977ca4b",
   "metadata": {},
   "outputs": [
    {
     "name": "stdout",
     "output_type": "stream",
     "text": [
      "Missing Values after cleaning:\n",
      " PassengerId    0\n",
      "Survived       0\n",
      "Pclass         0\n",
      "Sex            0\n",
      "Age            0\n",
      "SibSp          0\n",
      "Parch          0\n",
      "Fare           0\n",
      "Embarked       0\n",
      "dtype: int64\n"
     ]
    }
   ],
   "source": [
    "# Drop irrelevant columns\n",
    "data.drop([\"Name\", \"Ticket\", \"Cabin\"], axis=1, inplace=True)\n",
    "\n",
    "# Fill missing Age with median\n",
    "data[\"Age\"] = data[\"Age\"].fillna(data[\"Age\"].median())\n",
    "\n",
    "# Fill missing Embarked with mode\n",
    "data[\"Embarked\"] = data[\"Embarked\"].fillna(data[\"Embarked\"].mode()[0])\n",
    "\n",
    "# Verify missing values again\n",
    "print(\"Missing Values after cleaning:\\n\", data.isnull().sum())\n"
   ]
  },
  {
   "cell_type": "markdown",
   "id": "72a52cda",
   "metadata": {},
   "source": [
    "## 🔄 Step 5: Encode Categorical Variables\n",
    "We will convert categorical features into numeric format:\n",
    "- **Sex** → 0 = female, 1 = male\n",
    "- **Embarked** → Encoded into 0, 1, 2\n"
   ]
  },
  {
   "cell_type": "code",
   "execution_count": 56,
   "id": "6a6f9f67",
   "metadata": {},
   "outputs": [
    {
     "data": {
      "text/html": [
       "<div>\n",
       "<style scoped>\n",
       "    .dataframe tbody tr th:only-of-type {\n",
       "        vertical-align: middle;\n",
       "    }\n",
       "\n",
       "    .dataframe tbody tr th {\n",
       "        vertical-align: top;\n",
       "    }\n",
       "\n",
       "    .dataframe thead th {\n",
       "        text-align: right;\n",
       "    }\n",
       "</style>\n",
       "<table border=\"1\" class=\"dataframe\">\n",
       "  <thead>\n",
       "    <tr style=\"text-align: right;\">\n",
       "      <th></th>\n",
       "      <th>PassengerId</th>\n",
       "      <th>Survived</th>\n",
       "      <th>Pclass</th>\n",
       "      <th>Sex</th>\n",
       "      <th>Age</th>\n",
       "      <th>SibSp</th>\n",
       "      <th>Parch</th>\n",
       "      <th>Fare</th>\n",
       "      <th>Embarked</th>\n",
       "    </tr>\n",
       "  </thead>\n",
       "  <tbody>\n",
       "    <tr>\n",
       "      <th>0</th>\n",
       "      <td>1</td>\n",
       "      <td>0</td>\n",
       "      <td>3</td>\n",
       "      <td>1</td>\n",
       "      <td>22.0</td>\n",
       "      <td>1</td>\n",
       "      <td>0</td>\n",
       "      <td>7.2500</td>\n",
       "      <td>2</td>\n",
       "    </tr>\n",
       "    <tr>\n",
       "      <th>1</th>\n",
       "      <td>2</td>\n",
       "      <td>1</td>\n",
       "      <td>1</td>\n",
       "      <td>0</td>\n",
       "      <td>38.0</td>\n",
       "      <td>1</td>\n",
       "      <td>0</td>\n",
       "      <td>71.2833</td>\n",
       "      <td>0</td>\n",
       "    </tr>\n",
       "    <tr>\n",
       "      <th>2</th>\n",
       "      <td>3</td>\n",
       "      <td>1</td>\n",
       "      <td>3</td>\n",
       "      <td>0</td>\n",
       "      <td>26.0</td>\n",
       "      <td>0</td>\n",
       "      <td>0</td>\n",
       "      <td>7.9250</td>\n",
       "      <td>2</td>\n",
       "    </tr>\n",
       "    <tr>\n",
       "      <th>3</th>\n",
       "      <td>4</td>\n",
       "      <td>1</td>\n",
       "      <td>1</td>\n",
       "      <td>0</td>\n",
       "      <td>35.0</td>\n",
       "      <td>1</td>\n",
       "      <td>0</td>\n",
       "      <td>53.1000</td>\n",
       "      <td>2</td>\n",
       "    </tr>\n",
       "    <tr>\n",
       "      <th>4</th>\n",
       "      <td>5</td>\n",
       "      <td>0</td>\n",
       "      <td>3</td>\n",
       "      <td>1</td>\n",
       "      <td>35.0</td>\n",
       "      <td>0</td>\n",
       "      <td>0</td>\n",
       "      <td>8.0500</td>\n",
       "      <td>2</td>\n",
       "    </tr>\n",
       "  </tbody>\n",
       "</table>\n",
       "</div>"
      ],
      "text/plain": [
       "   PassengerId  Survived  Pclass  Sex   Age  SibSp  Parch     Fare  Embarked\n",
       "0            1         0       3    1  22.0      1      0   7.2500         2\n",
       "1            2         1       1    0  38.0      1      0  71.2833         0\n",
       "2            3         1       3    0  26.0      0      0   7.9250         2\n",
       "3            4         1       1    0  35.0      1      0  53.1000         2\n",
       "4            5         0       3    1  35.0      0      0   8.0500         2"
      ]
     },
     "execution_count": 56,
     "metadata": {},
     "output_type": "execute_result"
    }
   ],
   "source": [
    "# Encode categorical columns\n",
    "le = LabelEncoder()\n",
    "data[\"Sex\"] = le.fit_transform(data[\"Sex\"])\n",
    "data[\"Embarked\"] = le.fit_transform(data[\"Embarked\"])\n",
    "\n",
    "# Show first 5 rows after encoding\n",
    "data.head()\n"
   ]
  },
  {
   "cell_type": "markdown",
   "id": "05038b3c",
   "metadata": {},
   "source": [
    "## 🎯 Step 6: Define Features (X) and Target (y)\n",
    "We will separate the dataset into:\n",
    "- **X (features)** → independent variables\n",
    "- **y (target)** → Survived column\n"
   ]
  },
  {
   "cell_type": "code",
   "execution_count": 57,
   "id": "10dcc06a",
   "metadata": {},
   "outputs": [
    {
     "name": "stdout",
     "output_type": "stream",
     "text": [
      "✅ Features shape: (891, 7)\n",
      "✅ Target shape: (891,)\n"
     ]
    }
   ],
   "source": [
    "# Drop 'Survived' (target) and 'PassengerId' (not useful) from features\n",
    "X = data.drop([\"Survived\", \"PassengerId\"], axis=1)\n",
    "y = data[\"Survived\"]\n",
    "\n",
    "print(\"✅ Features shape:\", X.shape)\n",
    "print(\"✅ Target shape:\", y.shape)\n"
   ]
  },
  {
   "cell_type": "markdown",
   "id": "59c13b45",
   "metadata": {},
   "source": [
    "## ✂️ Step 7: Train-Test Split\n",
    "We will split the dataset into:\n",
    "- **Training set (80%)** → used for training the model\n",
    "- **Testing set (20%)** → used for evaluating the model\n"
   ]
  },
  {
   "cell_type": "code",
   "execution_count": 58,
   "id": "86afae1d",
   "metadata": {},
   "outputs": [
    {
     "name": "stdout",
     "output_type": "stream",
     "text": [
      "Training set shape: (712, 7)\n",
      "Testing set shape: (179, 7)\n"
     ]
    }
   ],
   "source": [
    "# Split data into training and testing sets (80% train, 20% test)\n",
    "\n",
    "X_train, X_test, y_train, y_test = train_test_split(\n",
    "    X, y, test_size=0.2, random_state=42\n",
    ")\n",
    "\n",
    "print(\"Training set shape:\", X_train.shape)\n",
    "print(\"Testing set shape:\", X_test.shape)\n"
   ]
  },
  {
   "cell_type": "markdown",
   "id": "1cfb68f5",
   "metadata": {},
   "source": [
    "## ⚖️ Step 8: Feature Scaling\n",
    "We will standardize our features so that all values lie on the same scale.\n",
    "This helps the model train more effectively.\n"
   ]
  },
  {
   "cell_type": "code",
   "execution_count": 59,
   "id": "dda8ac5d",
   "metadata": {},
   "outputs": [
    {
     "name": "stdout",
     "output_type": "stream",
     "text": [
      "✅ Feature scaling applied successfully!\n"
     ]
    }
   ],
   "source": [
    "# Initialize scaler\n",
    "scaler = StandardScaler()\n",
    "\n",
    "# Fit on training data and transform both train & test sets\n",
    "X_train = scaler.fit_transform(X_train)\n",
    "X_test = scaler.transform(X_test)\n",
    "\n",
    "print(\"✅ Feature scaling applied successfully!\")\n"
   ]
  },
  {
   "cell_type": "markdown",
   "id": "fa0341be",
   "metadata": {},
   "source": [
    "## 🤖 Step 9: Train Model (Logistic Regression)\n",
    "We will use Logistic Regression as our first ML model to predict survival.\n"
   ]
  },
  {
   "cell_type": "code",
   "execution_count": 60,
   "id": "43034d84",
   "metadata": {},
   "outputs": [
    {
     "name": "stdout",
     "output_type": "stream",
     "text": [
      "✅ Model training complete!\n"
     ]
    }
   ],
   "source": [
    "# Initialize model\n",
    "model = LogisticRegression()\n",
    "\n",
    "# Train model\n",
    "model.fit(X_train, y_train)\n",
    "\n",
    "print(\"✅ Model training complete!\")\n"
   ]
  },
  {
   "cell_type": "markdown",
   "id": "ad924f69",
   "metadata": {},
   "source": [
    "## 📊 Step 10: Evaluate Model\n",
    "We will check:\n",
    "- Accuracy Score\n",
    "- Confusion Matrix\n",
    "- Classification Report\n"
   ]
  },
  {
   "cell_type": "code",
   "execution_count": 61,
   "id": "dab94317",
   "metadata": {},
   "outputs": [
    {
     "name": "stdout",
     "output_type": "stream",
     "text": [
      "🎯 Accuracy: 0.8044692737430168\n",
      "\n",
      "Confusion Matrix:\n",
      " [[90 15]\n",
      " [20 54]]\n",
      "\n",
      "Classification Report:\n",
      "               precision    recall  f1-score   support\n",
      "\n",
      "           0       0.82      0.86      0.84       105\n",
      "           1       0.78      0.73      0.76        74\n",
      "\n",
      "    accuracy                           0.80       179\n",
      "   macro avg       0.80      0.79      0.80       179\n",
      "weighted avg       0.80      0.80      0.80       179\n",
      "\n"
     ]
    }
   ],
   "source": [
    "# Predictions\n",
    "y_pred = model.predict(X_test)\n",
    "\n",
    "# Evaluation metrics\n",
    "print(\"🎯 Accuracy:\", accuracy_score(y_test, y_pred))\n",
    "print(\"\\nConfusion Matrix:\\n\", confusion_matrix(y_test, y_pred))\n",
    "print(\"\\nClassification Report:\\n\", classification_report(y_test, y_pred))\n"
   ]
  },
  {
   "cell_type": "markdown",
   "id": "c8a5f860",
   "metadata": {},
   "source": [
    "## 🚀 Step 11: Try Multiple ML Models & Compare  \n",
    "\n",
    "To make our Titanic survival prediction model more professional, we will try multiple Machine Learning algorithms and compare their performance:  \n",
    "\n",
    "- Decision Tree  \n",
    "- Random Forest  \n",
    "- Support Vector Machine (SVM)  \n",
    "- K-Nearest Neighbors (KNN)  \n",
    "\n",
    "We will evaluate each model using **Accuracy Score** and then compare results to select the best model.  \n"
   ]
  },
  {
   "cell_type": "code",
   "execution_count": 62,
   "id": "66727172",
   "metadata": {},
   "outputs": [
    {
     "name": "stdout",
     "output_type": "stream",
     "text": [
      "Logistic Regression Accuracy: 0.8045\n",
      "Decision Tree Accuracy: 0.7821\n",
      "Random Forest Accuracy: 0.8212\n",
      "SVM Accuracy: 0.8156\n",
      "KNN Accuracy: 0.8045\n",
      "\n",
      "📊 Model Comparison:\n",
      "Logistic Regression: 0.8045\n",
      "Decision Tree: 0.7821\n",
      "Random Forest: 0.8212\n",
      "SVM: 0.8156\n",
      "KNN: 0.8045\n"
     ]
    }
   ],
   "source": [
    "# Define models\n",
    "models = {\n",
    "    \"Logistic Regression\": model,  # already trained\n",
    "    \"Decision Tree\": DecisionTreeClassifier(random_state=42),\n",
    "    \"Random Forest\": RandomForestClassifier(random_state=42, n_estimators=100),\n",
    "    \"SVM\": SVC(random_state=42),\n",
    "    \"KNN\": KNeighborsClassifier(n_neighbors=5)\n",
    "}\n",
    "\n",
    "# Train & evaluate models\n",
    "results = {}\n",
    "for name, clf in models.items():\n",
    "    clf.fit(X_train, y_train)\n",
    "    y_pred = clf.predict(X_test)\n",
    "    acc = accuracy_score(y_test, y_pred)\n",
    "    results[name] = acc\n",
    "    print(f\"{name} Accuracy: {acc:.4f}\")\n",
    "\n",
    "# Show comparison\n",
    "print(\"\\n📊 Model Comparison:\")\n",
    "for k, v in results.items():\n",
    "    print(f\"{k}: {v:.4f}\")\n"
   ]
  },
  {
   "cell_type": "markdown",
   "id": "43ef31b8",
   "metadata": {},
   "source": [
    "## 📊 Step 12: Model Performance Visualization  \n",
    "\n",
    "To make the comparison more clear and professional, we will visualize the accuracy scores of all models using a bar chart.\n"
   ]
  },
  {
   "cell_type": "code",
   "execution_count": 63,
   "id": "26037ffe",
   "metadata": {},
   "outputs": [
    {
     "data": {
      "image/png": "[encoded data removed]",
      "text/plain": [
       "<Figure size 800x500 with 1 Axes>"
      ]
     },
     "metadata": {},
     "output_type": "display_data"
    }
   ],
   "source": [
    "# Plot model comparison\n",
    "plt.figure(figsize=(8,5))\n",
    "plt.bar(results.keys(), results.values(), color='skyblue')\n",
    "plt.xlabel(\"Models\")\n",
    "plt.ylabel(\"Accuracy\")\n",
    "plt.title(\"Model Comparison - Titanic Survival Prediction\")\n",
    "plt.xticks(rotation=45)\n",
    "plt.ylim(0.75, 0.85)  # zoomed-in range for better visibility\n",
    "plt.show()\n"
   ]
  },
  {
   "cell_type": "markdown",
   "id": "a19530f6",
   "metadata": {},
   "source": [
    "## 🛠 Step 11: Save Best Model with Joblib  \n",
    "\n",
    "Now that we have trained and compared multiple ML models, we will save the **best performing model (Random Forest)** using `joblib`.  \n",
    "This allows us to reuse the trained model later without retraining, which is especially useful when deploying the model in a Streamlit app.  \n",
    "\n",
    "We will save the model inside a dedicated folder: **Titanic_Survival_Joblib**.  \n"
   ]
  },
  {
   "cell_type": "code",
   "execution_count": 65,
   "id": "f0f42e03",
   "metadata": {},
   "outputs": [
    {
     "name": "stdout",
     "output_type": "stream",
     "text": [
      "✅ Model saved as 'Titanic_Survival_Joblib/titanic_model.joblib'\n"
     ]
    }
   ],
   "source": [
    "# Create folder if it doesn't exist\n",
    "os.makedirs(\"Titanic_Survival_Joblib\", exist_ok=True)\n",
    "\n",
    "# Train best model again (Random Forest)\n",
    "best_model = RandomForestClassifier(random_state=42, n_estimators=100)\n",
    "best_model.fit(X_train, y_train)\n",
    "\n",
    "# Save model using joblib\n",
    "joblib.dump(best_model, \"Titanic_Survival_Joblib/titanic_model.joblib\")\n",
    "\n",
    "print(\"✅ Model saved as 'Titanic_Survival_Joblib/titanic_model.joblib'\")\n"
   ]
  },
  {
   "cell_type": "markdown",
   "id": "5e61a8db",
   "metadata": {},
   "source": [
    "## 🚀 Step 12: Build Streamlit App for Deployment  \n",
    "\n",
    "We will now create a **Streamlit app (`app.py`)** that:  \n",
    "1. Loads our saved Random Forest model (`titanic_model.joblib`).  \n",
    "2. Takes passenger details as user input.  \n",
    "3. Predicts whether the passenger survived or not.  \n"
   ]
  }
 ],
 "metadata": {
  "kernelspec": {
   "display_name": ".venv",
   "language": "python",
   "name": "python3"
  },
  "language_info": {
   "codemirror_mode": {
    "name": "ipython",
    "version": 3
   },
   "file_extension": ".py",
   "mimetype": "text/x-python",
   "name": "python",
   "nbconvert_exporter": "python",
   "pygments_lexer": "ipython3",
   "version": "3.13.5"
  }
 },
 "nbformat": 4,
 "nbformat_minor": 5
}
